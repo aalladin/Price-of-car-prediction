{
 "cells": [
  {
   "cell_type": "markdown",
   "id": "52ba5eae",
   "metadata": {},
   "source": [
    "Problem Statement:\n",
    "\n",
    "Given a dataset of 426K used cars, identify the key factors that influence the price of a used car. Provide actionable recommendations to a used car dealership on what consumers value in a used car to help them make informed decisions about their inventory and pricing strategies."
   ]
  },
  {
   "cell_type": "code",
   "execution_count": 1,
   "id": "eef0f371",
   "metadata": {},
   "outputs": [],
   "source": [
    "import pandas as pd\n",
    "import numpy as np\n",
    "import plotly.express as px\n",
    "import matplotlib.pyplot as plt\n",
    "import seaborn as sns\n",
    "\n",
    "import statsmodels.api as sm\n",
    "from statsmodels.tsa.filters.filtertools import convolution_filter\n",
    "import statsmodels.graphics.tsaplots as tsplots\n",
    "from statsmodels.tsa.seasonal import seasonal_decompose, STL\n",
    "from statsmodels.tsa.forecasting.stl import STLForecast\n",
    "from statsmodels.tsa.arima.model import ARIMA\n",
    "from statsmodels.tsa.stattools import adfuller\n",
    "from sklearn.preprocessing import StandardScaler\n",
    "from sklearn.linear_model import LinearRegression\n",
    "from sklearn.model_selection import cross_val_score\n",
    "from sklearn.linear_model import LinearRegression, Ridge, Lasso\n",
    "from sklearn.model_selection import cross_val_score, GridSearchCV, train_test_split\n",
    "from sklearn.metrics import mean_squared_error\n",
    "from sklearn.preprocessing import StandardScaler\n",
    "import numpy as np\n",
    "import pandas as pd"
   ]
  },
  {
   "cell_type": "code",
   "execution_count": 2,
   "id": "d6e04e7a",
   "metadata": {
    "scrolled": true
   },
   "outputs": [
    {
     "name": "stdout",
     "output_type": "stream",
     "text": [
      "                            region  price  year manufacturer model condition  \\\n",
      "id                                                                             \n",
      "7222695916                prescott   6000   NaN          NaN   NaN       NaN   \n",
      "7218891961            fayetteville  11900   NaN          NaN   NaN       NaN   \n",
      "7221797935            florida keys  21000   NaN          NaN   NaN       NaN   \n",
      "7222270760  worcester / central MA   1500   NaN          NaN   NaN       NaN   \n",
      "7210384030              greensboro   4900   NaN          NaN   NaN       NaN   \n",
      "\n",
      "           cylinders fuel  odometer title_status transmission  VIN drive size  \\\n",
      "id                                                                              \n",
      "7222695916       NaN  NaN       NaN          NaN          NaN  NaN   NaN  NaN   \n",
      "7218891961       NaN  NaN       NaN          NaN          NaN  NaN   NaN  NaN   \n",
      "7221797935       NaN  NaN       NaN          NaN          NaN  NaN   NaN  NaN   \n",
      "7222270760       NaN  NaN       NaN          NaN          NaN  NaN   NaN  NaN   \n",
      "7210384030       NaN  NaN       NaN          NaN          NaN  NaN   NaN  NaN   \n",
      "\n",
      "           type paint_color state  \n",
      "id                                 \n",
      "7222695916  NaN         NaN    az  \n",
      "7218891961  NaN         NaN    ar  \n",
      "7221797935  NaN         NaN    fl  \n",
      "7222270760  NaN         NaN    ma  \n",
      "7210384030  NaN         NaN    nc  \n"
     ]
    }
   ],
   "source": [
    "# Load the dataset into a pandas dataframe:\n",
    "cars = pd.read_csv('/Users/aalladin/Documents/usedCarPredict/data/vehicles.csv', index_col = 0)\n",
    "\n",
    "# Display the first few rows of the dataframe to see whats up. Lot of data quality issues:\n",
    "print(cars.head())"
   ]
  },
  {
   "cell_type": "code",
   "execution_count": 3,
   "id": "d87ca465",
   "metadata": {
    "scrolled": false
   },
   "outputs": [
    {
     "name": "stdout",
     "output_type": "stream",
     "text": [
      "<class 'pandas.core.frame.DataFrame'>\n",
      "Int64Index: 426880 entries, 7222695916 to 7301591129\n",
      "Data columns (total 17 columns):\n",
      " #   Column        Non-Null Count   Dtype  \n",
      "---  ------        --------------   -----  \n",
      " 0   region        426880 non-null  object \n",
      " 1   price         426880 non-null  int64  \n",
      " 2   year          425675 non-null  float64\n",
      " 3   manufacturer  409234 non-null  object \n",
      " 4   model         421603 non-null  object \n",
      " 5   condition     252776 non-null  object \n",
      " 6   cylinders     249202 non-null  object \n",
      " 7   fuel          423867 non-null  object \n",
      " 8   odometer      422480 non-null  float64\n",
      " 9   title_status  418638 non-null  object \n",
      " 10  transmission  424324 non-null  object \n",
      " 11  VIN           265838 non-null  object \n",
      " 12  drive         296313 non-null  object \n",
      " 13  size          120519 non-null  object \n",
      " 14  type          334022 non-null  object \n",
      " 15  paint_color   296677 non-null  object \n",
      " 16  state         426880 non-null  object \n",
      "dtypes: float64(2), int64(1), object(14)\n",
      "memory usage: 58.6+ MB\n"
     ]
    }
   ],
   "source": [
    "cars.info() # getting some information of the dataframe schema:"
   ]
  },
  {
   "cell_type": "code",
   "execution_count": 4,
   "id": "cc19bbc0",
   "metadata": {},
   "outputs": [
    {
     "name": "stdout",
     "output_type": "stream",
     "text": [
      "              Missing Count  Missing Percent\n",
      "size                 306361        71.767476\n",
      "cylinders            177678        41.622470\n",
      "condition            174104        40.785232\n",
      "VIN                  161042        37.725356\n",
      "drive                130567        30.586347\n",
      "paint_color          130203        30.501078\n",
      "type                  92858        21.752717\n",
      "manufacturer          17646         4.133714\n",
      "title_status           8242         1.930753\n",
      "model                  5277         1.236179\n",
      "odometer               4400         1.030735\n",
      "fuel                   3013         0.705819\n",
      "transmission           2556         0.598763\n",
      "year                   1205         0.282281\n",
      "region                    0         0.000000\n",
      "price                     0         0.000000\n",
      "state                     0         0.000000\n"
     ]
    }
   ],
   "source": [
    "# identify missing by data by attribute both by count and percent:\n",
    "missing_data = cars.isnull().sum()\n",
    "missing_percent = cars.isnull().sum() * 100 / len(cars)\n",
    "missing_info = pd.DataFrame({'Missing Count': missing_data, 'Missing Percent': missing_percent})\n",
    "\n",
    "#sort:\n",
    "missing_info_sorted = missing_info.sort_values(by='Missing Count', ascending=False)\n",
    "print(missing_info_sorted)"
   ]
  },
  {
   "cell_type": "code",
   "execution_count": 5,
   "id": "33e0c4f8",
   "metadata": {},
   "outputs": [],
   "source": [
    "# Let's set a threshold for the maximum acceptable percentage of missing values: \n",
    "# Columns with a higher percentage of missing values than this threshold can be dropped:\n",
    "\n",
    "threshold = 20\n",
    "cols_to_drop = missing_info[missing_info['Missing Percent'] > threshold].index\n",
    "cars_cleaned = cars.drop(columns=cols_to_drop) # creating a new dataframe with clean data:"
   ]
  },
  {
   "cell_type": "code",
   "execution_count": 6,
   "id": "15b2ab6e",
   "metadata": {},
   "outputs": [],
   "source": [
    "# For columns with missing values below the threshold we will impute the missing values:\n",
    "\n",
    "# For numerical columns I am using mean:\n",
    "for col in cars_cleaned.select_dtypes(include=['int', 'float']).columns:\n",
    "    cars_cleaned[col].fillna(cars_cleaned[col].mean(), inplace=True)\n",
    "\n",
    "# For categorical columns I am using mode:\n",
    "for col in cars_cleaned.select_dtypes(include=['object']).columns:\n",
    "    cars_cleaned[col].fillna(cars_cleaned[col].mode()[0], inplace=True)"
   ]
  },
  {
   "cell_type": "code",
   "execution_count": 7,
   "id": "c9e192cd",
   "metadata": {},
   "outputs": [],
   "source": [
    "#Removing outliers that are more than 3 standard deviations from the mean:\n",
    "\n",
    "numeric_cols = cars_cleaned.select_dtypes(include=['int', 'float']).columns\n",
    "\n",
    "for col in numeric_cols:\n",
    "    mean = cars_cleaned[col].mean()\n",
    "    std = cars_cleaned[col].std()\n",
    "    cutoff = std * 3\n",
    "    lower, upper = mean - cutoff, mean + cutoff\n",
    "    cars_cleaned = cars_cleaned[(cars_cleaned[col] >= lower) & (cars_cleaned[col] <= upper)]"
   ]
  },
  {
   "cell_type": "code",
   "execution_count": 8,
   "id": "653bb00d",
   "metadata": {},
   "outputs": [],
   "source": [
    "# Dropping irrelevant columns as they are not needed for my evaluation and recommendation:\n",
    "\n",
    "columns_to_drop = ['title_status', 'region', 'fuel']\n",
    "\n",
    "# Drop the columns\n",
    "\n",
    "cars_cleaned = cars_cleaned.drop(columns=columns_to_drop)"
   ]
  },
  {
   "cell_type": "code",
   "execution_count": 9,
   "id": "318ec43f",
   "metadata": {},
   "outputs": [],
   "source": [
    "#remove duplicate rows:\n",
    "\n",
    "cars_cleaned = cars_cleaned.drop_duplicates()"
   ]
  },
  {
   "cell_type": "code",
   "execution_count": 10,
   "id": "c9b8427d",
   "metadata": {},
   "outputs": [],
   "source": [
    "# Now for some feature engineering as it can be important to the car dealers\n",
    "\n",
    "# Calculate the age of the car at the time of sale\n",
    "cars_cleaned['age'] = 2023 - cars_cleaned['year']\n",
    "\n",
    "# Create a new feature 'warranty_at_sale'\n",
    "cars_cleaned['warranty_at_sale'] = cars_cleaned['age'].apply(lambda x: 1 if x < 5 else 0)"
   ]
  },
  {
   "cell_type": "code",
   "execution_count": 11,
   "id": "96674d2e",
   "metadata": {},
   "outputs": [],
   "source": [
    "# Remove rows with price less than or equal to zero:\n",
    "\n",
    "cars_cleaned = cars_cleaned[cars_cleaned['price'] > 0]\n",
    "\n",
    "# Then apply the log transformation:\n",
    "\n",
    "cars_cleaned['log_price'] = np.log(cars_cleaned['price'])\n",
    "cars_cleaned = cars_cleaned.drop(columns=['price'])"
   ]
  },
  {
   "cell_type": "code",
   "execution_count": 12,
   "id": "da43dd06",
   "metadata": {},
   "outputs": [],
   "source": [
    "# Standardize numerical variables so that they're on the same scale:\n",
    "\n",
    "scaler = StandardScaler()\n",
    "\n",
    "# List of numerical columns\n",
    "\n",
    "num_cols = ['odometer', 'age']\n",
    "cars_cleaned[num_cols] = scaler.fit_transform(cars_cleaned[num_cols])"
   ]
  },
  {
   "cell_type": "code",
   "execution_count": 13,
   "id": "540d978e",
   "metadata": {},
   "outputs": [],
   "source": [
    "# Encoding to convert categorical variables into numerical form. \n",
    "# BTW, this increased the dimensionality significantly making modeling a bit unrly.\n",
    "\n",
    "cars_cleaned = pd.get_dummies(cars_cleaned)"
   ]
  },
  {
   "cell_type": "code",
   "execution_count": 14,
   "id": "e10840df",
   "metadata": {},
   "outputs": [],
   "source": [
    "# I am taking a  fraction of my data to sample (10%):\n",
    "sample_fraction = 0.1\n",
    "\n",
    "# Using the sample method on my pandas DataFrame to create a smaller DataFrame\n",
    "cars_sample = cars_cleaned.sample(frac=sample_fraction, random_state=42)\n",
    "\n",
    "# Then split the sampled data\n",
    "X = cars_sample.drop(columns='log_price')\n",
    "y = cars_sample['log_price']\n",
    "\n",
    "X_train, X_test, y_train, y_test = train_test_split(X, y, test_size=0.2, random_state=42)"
   ]
  },
  {
   "cell_type": "code",
   "execution_count": 15,
   "id": "302a83c0",
   "metadata": {},
   "outputs": [
    {
     "name": "stderr",
     "output_type": "stream",
     "text": [
      "/tmp/ipykernel_36153/3375102935.py:5: FutureWarning: The default value of numeric_only in DataFrame.corr is deprecated. In a future version, it will default to False. Select only valid columns or specify the value of numeric_only to silence this warning.\n",
      "  sns.heatmap(cars.corr(), annot=True, cmap='coolwarm')\n"
     ]
    },
    {
     "data": {
      "text/plain": [
       "<Axes: >"
      ]
     },
     "execution_count": 15,
     "metadata": {},
     "output_type": "execute_result"
    },
    {
     "data": {
      "image/png": "[encoded data removed]",
      "text/plain": [
       "<Figure size 1000x600 with 2 Axes>"
      ]
     },
     "metadata": {},
     "output_type": "display_data"
    }
   ],
   "source": [
    "# Visualizing Correlations:\n",
    "# A heatmap of correlations identifying variables that are closely related to each other:\n",
    "\n",
    "plt.figure(figsize=(10,6))\n",
    "sns.heatmap(cars.corr(), annot=True, cmap='coolwarm')"
   ]
  },
  {
   "cell_type": "markdown",
   "id": "6b1523ec",
   "metadata": {},
   "source": [
    "Using sklearn library we will build and cross-validate several regression models using Ridge Regression, and Lasso Regression. In the steps below, 'cross_val_score' performs cross-validation by splitting the training data into several subsets (controlled by the 'cv' argument), training the model on some of these subsets, and evaluating it on the remaining ones. This process is repeated several times to get a more robust estimate of the model's performance."
   ]
  },
  {
   "cell_type": "code",
   "execution_count": 16,
   "id": "a1dd32fb",
   "metadata": {},
   "outputs": [],
   "source": [
    "# Standardize numerical variables to standardize (mean 0, standard deviation 1) \n",
    "# the numerical features in the training and test sets. \n",
    "# This is important because different scales of features can impact some machine learning algorithms: \n",
    "\n",
    "scaler = StandardScaler()\n"
   ]
  },
  {
   "cell_type": "code",
   "execution_count": 17,
   "id": "93afe664",
   "metadata": {},
   "outputs": [],
   "source": [
    "# Assuming 'num_cols' is a list of numerical columns: \n",
    "\n",
    "X_train[num_cols] = scaler.fit_transform(X_train[num_cols])\n",
    "X_test[num_cols] = scaler.transform(X_test[num_cols])"
   ]
  },
  {
   "cell_type": "code",
   "execution_count": 18,
   "id": "a47b9fe7",
   "metadata": {},
   "outputs": [],
   "source": [
    "# Modeling\n",
    "\n",
    "# Defining the models\n",
    "models = {'Ridge': Ridge(),\n",
    "          'Lasso': Lasso()}\n"
   ]
  },
  {
   "cell_type": "code",
   "execution_count": 19,
   "id": "aade29f5",
   "metadata": {},
   "outputs": [
    {
     "name": "stdout",
     "output_type": "stream",
     "text": [
      "Ridge Cross-validation MSE: 0.8809161055896467\n",
      "Lasso Cross-validation MSE: 1.1149673947822523\n"
     ]
    }
   ],
   "source": [
    "# Performing cross-validation and print results\n",
    "for model_name, model in models.items():\n",
    "    cv_scores = cross_val_score(model, X_train, y_train, cv=3, scoring='neg_mean_squared_error', n_jobs=-1)\n",
    "    print(f'{model_name} Cross-validation MSE: {-np.mean(cv_scores)}')"
   ]
  },
  {
   "cell_type": "code",
   "execution_count": 20,
   "id": "d49c3082",
   "metadata": {
    "scrolled": true
   },
   "outputs": [
    {
     "name": "stdout",
     "output_type": "stream",
     "text": [
      "Best parameters for Ridge Regression: {'alpha': 5}\n",
      "Best score for Ridge Regression: 0.9373022369530796\n",
      "Best parameters for Lasso Regression: {'alpha': 0.001}\n",
      "Best score for Lasso Regression: 0.9687142520031649\n"
     ]
    }
   ],
   "source": [
    "# Grid Search for Ridge and Lasso Regression\n",
    "parameters = {'alpha': [1e-3, 1e-2, 1, 5, 10]}\n",
    "\n",
    "ridge_regressor = GridSearchCV(Ridge(), parameters, scoring='neg_mean_squared_error', cv=3)\n",
    "ridge_regressor.fit(X_train, y_train)\n",
    "\n",
    "lasso_regressor = GridSearchCV(Lasso(), parameters, scoring='neg_mean_squared_error', cv=3)\n",
    "lasso_regressor.fit(X_train, y_train)\n",
    "\n",
    "print(f\"Best parameters for Ridge Regression: {ridge_regressor.best_params_}\")\n",
    "print(f\"Best score for Ridge Regression: {np.sqrt(-ridge_regressor.best_score_)}\")\n",
    "\n",
    "print(f\"Best parameters for Lasso Regression: {lasso_regressor.best_params_}\")\n",
    "print(f\"Best score for Lasso Regression: {np.sqrt(-lasso_regressor.best_score_)}\")"
   ]
  },
  {
   "cell_type": "code",
   "execution_count": 23,
   "id": "778b3bb8",
   "metadata": {},
   "outputs": [
    {
     "name": "stdout",
     "output_type": "stream",
     "text": [
      "MSE of best model on test set: 0.8017163061027401\n"
     ]
    }
   ],
   "source": [
    "# Choose the best model based on the score\n",
    "if ridge_regressor.best_score_ > lasso_regressor.best_score_:\n",
    "    best_model = Ridge(alpha=ridge_regressor.best_params_['alpha'])\n",
    "else:\n",
    "    best_model = Lasso(alpha=lasso_regressor.best_params_['alpha'])\n",
    "\n",
    "# Fit the model to the training data\n",
    "best_model.fit(X_train, y_train)\n",
    "\n",
    "# Make predictions on the test set\n",
    "predictions = best_model.predict(X_test)\n",
    "\n",
    "# Calculate the mean squared error of the predictions\n",
    "mse = mean_squared_error(y_test, predictions)\n",
    "\n",
    "print(f\"MSE of best model on test set: {mse}\")"
   ]
  },
  {
   "cell_type": "code",
   "execution_count": null,
   "id": "d8667776",
   "metadata": {},
   "outputs": [],
   "source": []
  }
 ],
 "metadata": {
  "kernelspec": {
   "display_name": "Python 3 (ipykernel)",
   "language": "python",
   "name": "python3"
  },
  "language_info": {
   "codemirror_mode": {
    "name": "ipython",
    "version": 3
   },
   "file_extension": ".py",
   "mimetype": "text/x-python",
   "name": "python",
   "nbconvert_exporter": "python",
   "pygments_lexer": "ipython3",
   "version": "3.11.4"
  }
 },
 "nbformat": 4,
 "nbformat_minor": 5
}
